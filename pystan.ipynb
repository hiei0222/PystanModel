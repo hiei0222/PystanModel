{
 "cells": [
  {
   "cell_type": "code",
   "execution_count": 2,
   "metadata": {
    "collapsed": false
   },
   "outputs": [],
   "source": [
    "#coding:utf-8\n",
    "%matplotlib inline\n",
    "%load_ext autoreload\n",
    "%autoreload 2\n",
    "from sklearn.datasets import make_classification\n",
    "import numpy\n",
    "import matplotlib.pyplot as pl\n",
    "import pandas\n",
    "import pystan"
   ]
  },
  {
   "cell_type": "code",
   "execution_count": null,
   "metadata": {
    "collapsed": false
   },
   "outputs": [],
   "source": [
    "stan_model_code = \"\"\"\n",
    "data {\n",
    "    int<lower=1> N; // sample size\n",
    "    int<lower=1> D; // dimension\n",
    "    matrix[N, D] X;\n",
    "    real bp[N]; // baikyaku_kakaku\n",
    "}\n",
    "\n",
    "parameters {\n",
    "    real alpha;\n",
    "    vector[D] beta;\n",
    "    real<lower=0> sigma;\n",
    "}\n",
    "\n",
    "# transformed parameters {\n",
    "#     real mu[N]; // fitted values\n",
    "#\n",
    "#     for(i in 1:N)\n",
    "#         mu[i] <- a + b*x[i];\n",
    "# }\n",
    "\n",
    "model {\n",
    "    for (n in 1:N)\n",
    "        bp[n] ~ normal(alpha + X[n] * beta, sigma);\n",
    "\n",
    "    # // prior distributions(uninformative)\n",
    "    # for (d in 1:D)\n",
    "    #     beta[d] ~ normal(0, 1.0e+4);\n",
    "    # sigma ~ uniform(0, 1.0e+4);\n",
    "}\n",
    "\"\"\"\n",
    "train_set = {'N': len(train_data),\n",
    "             'D': 2,\n",
    "             'X': train_data.tolist(),\n",
    "             'bp': train_label.tolist()}\n",
    "\n",
    "fit = pystan.stan(model_code=stan_model_code, data=train_set, iter=1000, chains=3)"
   ]
  }
 ],
 "metadata": {
  "kernelspec": {
   "display_name": "Python 2",
   "language": "python",
   "name": "python2"
  },
  "language_info": {
   "codemirror_mode": {
    "name": "ipython",
    "version": 2
   },
   "file_extension": ".py",
   "mimetype": "text/x-python",
   "name": "python",
   "nbconvert_exporter": "python",
   "pygments_lexer": "ipython2",
   "version": "2.7.6"
  }
 },
 "nbformat": 4,
 "nbformat_minor": 0
}
